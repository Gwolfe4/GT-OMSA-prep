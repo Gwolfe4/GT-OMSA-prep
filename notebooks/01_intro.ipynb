{
 "cells": [
  {
   "cell_type": "code",
   "execution_count": 1,
   "id": "4ef3a73d-cbb4-46ad-895f-a9133114054c",
   "metadata": {},
   "outputs": [
    {
     "name": "stdout",
     "output_type": "stream",
     "text": [
      "Hello, OMSA!\n"
     ]
    }
   ],
   "source": [
    "print(\"Hello, OMSA!\")\n"
   ]
  },
  {
   "cell_type": "code",
   "execution_count": null,
   "id": "eafa4a4c-7019-46f1-be50-2d0cc815f25f",
   "metadata": {},
   "outputs": [],
   "source": []
  }
 ],
 "metadata": {
  "kernelspec": {
   "display_name": "Python 3 (ipykernel)",
   "language": "python",
   "name": "python3"
  },
  "language_info": {
   "codemirror_mode": {
    "name": "ipython",
    "version": 3
   },
   "file_extension": ".py",
   "mimetype": "text/x-python",
   "name": "python",
   "nbconvert_exporter": "python",
   "pygments_lexer": "ipython3",
   "version": "3.13.5"
  }
 },
 "nbformat": 4,
 "nbformat_minor": 5
}
